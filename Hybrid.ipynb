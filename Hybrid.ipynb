{
 "cells": [
  {
   "cell_type": "code",
   "execution_count": null,
   "metadata": {},
   "outputs": [],
   "source": [
    "import numpy as np\n",
    "from sklearn.datasets import load_iris\n",
    "from sklearn.model_selection import train_test_split\n",
    "from sklearn.linear_model import LogisticRegression\n",
    "from sklearn.tree import DecisionTreeClassifier\n",
    "from sklearn.svm import SVC\n",
    "from sklearn.ensemble import RandomForestClassifier\n",
    "from sklearn.metrics import accuracy_score\n",
    "\n",
    "# Load dataset\n",
    "iris = load_iris()\n",
    "X, y = iris.data, iris.target\n",
    "X_train, X_test, y_train, y_test = train_test_split(X, y, test_size=0.3, random_state=42)\n",
    "\n",
    "# Define base models\n",
    "base_model_1 = LogisticRegression(max_iter=1000)\n",
    "base_model_2 = DecisionTreeClassifier()\n",
    "base_model_3 = SVC(probability=True)\n",
    "\n",
    "# Train base models\n",
    "base_model_1.fit(X_train, y_train)\n",
    "base_model_2.fit(X_train, y_train)\n",
    "base_model_3.fit(X_train, y_train)\n",
    "\n",
    "# Collect predictions from base models on the training data\n",
    "pred_train_1 = base_model_1.predict_proba(X_train)\n",
    "pred_train_2 = base_model_2.predict_proba(X_train)\n",
    "pred_train_3 = base_model_3.predict_proba(X_train)\n",
    "\n",
    "# Stack predictions horizontally to create a new feature set for the meta-model\n",
    "meta_features_train = np.hstack((pred_train_1, pred_train_2, pred_train_3))\n",
    "\n",
    "# Define the meta-model\n",
    "meta_model = RandomForestClassifier()\n",
    "\n",
    "# Train the meta-model on the stacked predictions\n",
    "meta_model.fit(meta_features_train, y_train)\n",
    "\n",
    "# Collect predictions from base models on the test data\n",
    "pred_test_1 = base_model_1.predict_proba(X_test)\n",
    "pred_test_2 = base_model_2.predict_proba(X_test)\n",
    "pred_test_3 = base_model_3.predict_proba(X_test)\n",
    "\n",
    "# Stack predictions horizontally to create a new feature set for the meta-model\n",
    "meta_features_test = np.hstack((pred_test_1, pred_test_2, pred_test_3))\n",
    "\n",
    "# Use the meta-model to make final predictions\n",
    "final_predictions = meta_model.predict(meta_features_test)\n",
    "\n",
    "# Evaluate the meta-model\n",
    "print('Accuracy:', accuracy_score(y_test, final_predictions))\n"
   ]
  },
  {
   "cell_type": "code",
   "execution_count": null,
   "metadata": {},
   "outputs": [],
   "source": []
  },
  {
   "cell_type": "code",
   "execution_count": null,
   "metadata": {},
   "outputs": [],
   "source": []
  },
  {
   "cell_type": "code",
   "execution_count": null,
   "metadata": {},
   "outputs": [],
   "source": []
  },
  {
   "cell_type": "code",
   "execution_count": 1,
   "metadata": {},
   "outputs": [
    {
     "name": "stdout",
     "output_type": "stream",
     "text": [
      "Stacking Model Mean Absolute Error: 0.3483602522575244\n"
     ]
    }
   ],
   "source": [
    "# regression stacking\n",
    "\n",
    "import numpy as np\n",
    "import pandas as pd\n",
    "from sklearn.datasets import fetch_california_housing\n",
    "from sklearn.model_selection import train_test_split\n",
    "from sklearn.linear_model import LinearRegression\n",
    "from sklearn.ensemble import RandomForestRegressor, GradientBoostingRegressor, StackingRegressor\n",
    "from sklearn.metrics import mean_absolute_error\n",
    "\n",
    "# Load dataset\n",
    "housing = fetch_california_housing()\n",
    "X = housing.data\n",
    "y = housing.target\n",
    "\n",
    "# Split the dataset\n",
    "X_train, X_test, y_train, y_test = train_test_split(X, y, test_size=0.2, random_state=42)\n",
    "\n",
    "# Define base models\n",
    "base_models = [\n",
    "    ('rf', RandomForestRegressor(n_estimators=10, random_state=42)),\n",
    "    ('gb', GradientBoostingRegressor(n_estimators=10, random_state=42))\n",
    "]\n",
    "\n",
    "# Define meta model\n",
    "meta_model = LinearRegression()\n",
    "\n",
    "# Create the stacking model\n",
    "stacking_model = StackingRegressor(estimators=base_models, final_estimator=meta_model, cv=5)\n",
    "\n",
    "# Train the stacking model\n",
    "stacking_model.fit(X_train, y_train)\n",
    "\n",
    "# Make predictions\n",
    "y_pred = stacking_model.predict(X_test)\n",
    "\n",
    "# Evaluate the model\n",
    "mae = mean_absolute_error(y_test, y_pred)\n",
    "print(f'Stacking Model Mean Absolute Error: {mae}')\n"
   ]
  }
 ],
 "metadata": {
  "kernelspec": {
   "display_name": "Python 3",
   "language": "python",
   "name": "python3"
  },
  "language_info": {
   "codemirror_mode": {
    "name": "ipython",
    "version": 3
   },
   "file_extension": ".py",
   "mimetype": "text/x-python",
   "name": "python",
   "nbconvert_exporter": "python",
   "pygments_lexer": "ipython3",
   "version": "3.9.6"
  }
 },
 "nbformat": 4,
 "nbformat_minor": 2
}
